{
 "cells": [
  {
   "cell_type": "markdown",
   "source": [
    "Import necessary modules."
   ],
   "metadata": {
    "collapsed": false
   }
  },
  {
   "cell_type": "code",
   "execution_count": 79,
   "metadata": {
    "collapsed": true,
    "pycharm": {
     "name": "#%%\n"
    }
   },
   "outputs": [],
   "source": [
    "import pandas as pd\n",
    "import json"
   ]
  },
  {
   "cell_type": "markdown",
   "source": [
    "Helper methods."
   ],
   "metadata": {
    "collapsed": false,
    "pycharm": {
     "name": "#%% md\n"
    }
   }
  },
  {
   "cell_type": "code",
   "execution_count": 41,
   "outputs": [
    {
     "name": "stdout",
     "output_type": "stream",
     "text": [
      "552\n",
      "552\n"
     ]
    }
   ],
   "source": [
    "cricket_data = pd.read_csv('datacsv.csv')\n",
    "cricket_data = cricket_data.drop(columns=['Unnamed: 0'], axis=1)\n",
    "aus_data = (cricket_data[cricket_data['currentInning.team.shortName'] == 'AUS']).sort_values(by=['over'])\n",
    "scot_data = (cricket_data[cricket_data['currentInning.team.shortName'] == 'SCOT']).sort_values(by=['over'])\n",
    "print(len(scot_data) + len(aus_data))\n",
    "print(len(cricket_data))"
   ],
   "metadata": {
    "collapsed": false,
    "pycharm": {
     "name": "#%%\n"
    }
   }
  },
  {
   "cell_type": "code",
   "execution_count": 103,
   "outputs": [],
   "source": [
    "def get_player_runs(data):\n",
    "\n",
    "    # Initialize\n",
    "    batsmen_runs = pd.DataFrame(columns=['name', 'runs'])\n",
    "    curr_batsmen_name = ''\n",
    "    curr_batsmen_runs = 0\n",
    "    batsmen_runs_dict = {}\n",
    "\n",
    "    # Fill the data frame\n",
    "    for batsmen in data['currentBatsmen']:\n",
    "        batsmen = json.loads(batsmen.replace(\"\\'\", \"\\\"\"))\n",
    "        curr_batsmen_name = batsmen[0]['name']\n",
    "        curr_batsmen_runs = batsmen[0]['runs']\n",
    "        batsmen_runs = batsmen_runs.append({\n",
    "            'name': curr_batsmen_name,\n",
    "            'runs': curr_batsmen_runs\n",
    "        }, ignore_index=True)\n",
    "\n",
    "    # Get the player names\n",
    "    player_names = batsmen_runs['name'].unique()\n",
    "\n",
    "    # Fill the dictionary\n",
    "    for player in player_names:\n",
    "        batsmen_runs_dict[player] = ((batsmen_runs[batsmen_runs['name'] == player])['runs']).max()\n",
    "\n",
    "    # Return the dictionary\n",
    "    return batsmen_runs_dict\n",
    "\n",
    "def get_inning_runs(data):\n",
    "\n",
    "    total_runs = data['currentInning.runs'].max()\n",
    "\n",
    "    return total_runs\n"
   ],
   "metadata": {
    "collapsed": false,
    "pycharm": {
     "name": "#%%\n"
    }
   }
  },
  {
   "cell_type": "code",
   "execution_count": 105,
   "outputs": [
    {
     "name": "stdout",
     "output_type": "stream",
     "text": [
      "{'Adam Gilchrist': 46, 'Matthew Hayden': 60, 'Ricky Ponting': 113, 'Michael Clarke': 15, 'Brad Hodge': 29, 'Michael Hussey': 4, 'Shane Watson': 18, 'Brad Hogg': 40}\n",
      "334\n",
      "{'Fraser Watts': 9, 'Majid Haq': 16, 'Navdeep Poonia': 1, 'Ryan Watson': 6, 'Gavin Hamilton': 3, 'Dougie Brown': 19, 'Colin Smith': 51, 'Craig Wright': 4, 'Glenn Rogers': 6}\n",
      "131\n"
     ]
    }
   ],
   "source": [
    "# Player - Runs Australia\n",
    "player_runs_aus = get_player_runs(aus_data)\n",
    "total_runs_aus = get_inning_runs(aus_data)\n",
    "print(player_runs_aus)\n",
    "print(total_runs_aus)\n",
    "\n",
    "\n",
    "# Player - Runs Scotland\n",
    "player_runs_scot = get_player_runs(scot_data)\n",
    "total_runs_scot = get_inning_runs(scot_data)\n",
    "print(player_runs_scot)\n",
    "print(total_runs_scot)\n"
   ],
   "metadata": {
    "collapsed": false,
    "pycharm": {
     "name": "#%%\n"
    }
   }
  },
  {
   "cell_type": "code",
   "execution_count": 16,
   "outputs": [],
   "source": [],
   "metadata": {
    "collapsed": false,
    "pycharm": {
     "name": "#%%\n"
    }
   }
  },
  {
   "cell_type": "code",
   "execution_count": null,
   "outputs": [],
   "source": [],
   "metadata": {
    "collapsed": false,
    "pycharm": {
     "name": "#%%\n"
    }
   }
  }
 ],
 "metadata": {
  "kernelspec": {
   "display_name": "Python 3",
   "language": "python",
   "name": "python3"
  },
  "language_info": {
   "codemirror_mode": {
    "name": "ipython",
    "version": 2
   },
   "file_extension": ".py",
   "mimetype": "text/x-python",
   "name": "python",
   "nbconvert_exporter": "python",
   "pygments_lexer": "ipython2",
   "version": "2.7.6"
  }
 },
 "nbformat": 4,
 "nbformat_minor": 0
}